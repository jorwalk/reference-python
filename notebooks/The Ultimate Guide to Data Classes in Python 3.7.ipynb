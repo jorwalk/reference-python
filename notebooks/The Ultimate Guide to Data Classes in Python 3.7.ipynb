{
 "cells": [
  {
   "cell_type": "markdown",
   "metadata": {},
   "source": [
    "# The Ultimate Guide to Data Classes in Python 3.7\n",
    "\n",
    "One [new and exciting feature coming in Python 3.7](https://realpython.com/python37-new-features/) is the data class. A data class is a class typically containing mainly data, although there aren't really any restrictions. It is created using the new `@dataclass` decorator, as follows:"
   ]
  },
  {
   "cell_type": "code",
   "execution_count": null,
   "metadata": {},
   "outputs": [],
   "source": [
    "from dataclasses import dataclass\n",
    "\n",
    "@dataclass\n",
    "class DataClassCard:\n",
    "    rank: str\n",
    "    suit: str"
   ]
  },
  {
   "cell_type": "code",
   "execution_count": null,
   "metadata": {},
   "outputs": [],
   "source": [
    "import sys\n",
    "print(sys.version)"
   ]
  },
  {
   "cell_type": "code",
   "execution_count": null,
   "metadata": {},
   "outputs": [],
   "source": [
    "queen_of_hearts = DataClassCard('Q', 'Hearts')\n",
    "queen_of_hearts.rank"
   ]
  },
  {
   "cell_type": "code",
   "execution_count": null,
   "metadata": {},
   "outputs": [],
   "source": [
    "queen_of_hearts\n",
    "queen_of_hearts == DataClassCard('Q', 'Hearts')"
   ]
  },
  {
   "cell_type": "code",
   "execution_count": null,
   "metadata": {},
   "outputs": [],
   "source": [
    "@dataclass\n",
    "class RegularCard:\n",
    "    def __init__(self, rank, suit):\n",
    "        self.rank = rank\n",
    "        self.suit = suit"
   ]
  },
  {
   "cell_type": "code",
   "execution_count": null,
   "metadata": {},
   "outputs": [],
   "source": [
    "queen_of_hearts = RegularCard('Q', 'Hearts')\n",
    "queen_of_hearts.rank\n",
    "queen_of_hearts\n",
    "queen_of_hearts == RegularCard('Q', 'Hearts')"
   ]
  },
  {
   "cell_type": "code",
   "execution_count": null,
   "metadata": {},
   "outputs": [],
   "source": [
    "@dataclass\n",
    "class RegularCard:\n",
    "    def __init__(self, rank, suit):\n",
    "        self.rank = rank\n",
    "        self.suit = suit\n",
    "\n",
    "    def __repr__(self):\n",
    "        return (f'{self.__class__.__name__}'\n",
    "                f'(rank={self.rank!r}, suit={self.suit!r})')\n",
    "\n",
    "    def __eq__(self, other):\n",
    "        if other.__class__ is not self.__class__:\n",
    "            return NotImplemented\n",
    "        return (self.rank, self.suit) == (other.rank, other.suit)"
   ]
  },
  {
   "cell_type": "code",
   "execution_count": null,
   "metadata": {},
   "outputs": [],
   "source": [
    "@dataclass\n",
    "class Position:\n",
    "    name: str\n",
    "    lon: float\n",
    "    lat: float"
   ]
  },
  {
   "cell_type": "code",
   "execution_count": null,
   "metadata": {},
   "outputs": [],
   "source": [
    "pos = Position('Oslo', 10.8, 59.9)\n",
    "print(pos)"
   ]
  },
  {
   "cell_type": "code",
   "execution_count": null,
   "metadata": {},
   "outputs": [],
   "source": [
    "from dataclasses import dataclass\n",
    "from math import asin, cos, radians, sin, sqrt\n",
    "\n",
    "@dataclass\n",
    "class Position:\n",
    "    name: str\n",
    "    lon: float = 0.0\n",
    "    lat: float = 0.0\n",
    "\n",
    "    def distance_to(self, other):\n",
    "        r = 6371  # Earth radius in kilometers\n",
    "        lam_1, lam_2 = radians(self.lon), radians(other.lon)\n",
    "        phi_1, phi_2 = radians(self.lat), radians(other.lat)\n",
    "        h = (sin((phi_2 - phi_1) / 2)**2\n",
    "             + cos(phi_1) * cos(phi_2) * sin((lam_2 - lam_1) / 2)**2)\n",
    "        return 2 * r * asin(sqrt(h))"
   ]
  },
  {
   "cell_type": "code",
   "execution_count": null,
   "metadata": {},
   "outputs": [],
   "source": [
    "oslo = Position('Oslo', 10.8, 59.9)\n",
    "vancouver = Position('Vancouver', -123.1, 49.3)\n",
    "oslo.distance_to(vancouver)"
   ]
  },
  {
   "cell_type": "code",
   "execution_count": null,
   "metadata": {},
   "outputs": [],
   "source": []
  }
 ],
 "metadata": {
  "kernelspec": {
   "display_name": "Python 3",
   "language": "python",
   "name": "python3"
  },
  "language_info": {
   "codemirror_mode": {
    "name": "ipython",
    "version": 3
   },
   "file_extension": ".py",
   "mimetype": "text/x-python",
   "name": "python",
   "nbconvert_exporter": "python",
   "pygments_lexer": "ipython3",
   "version": "3.7.1"
  }
 },
 "nbformat": 4,
 "nbformat_minor": 2
}
