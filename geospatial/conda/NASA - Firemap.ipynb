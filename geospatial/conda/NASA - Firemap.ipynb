{
 "cells": [
  {
   "cell_type": "code",
   "execution_count": 1,
   "metadata": {},
   "outputs": [],
   "source": [
    "from urllib.request import Request, urlopen, urlretrieve\n",
    "from bs4 import BeautifulSoup\n",
    "import requests"
   ]
  },
  {
   "cell_type": "markdown",
   "metadata": {},
   "source": [
    "## Download file"
   ]
  },
  {
   "cell_type": "code",
   "execution_count": 2,
   "metadata": {},
   "outputs": [],
   "source": [
    "def download_file(url, filename):\n",
    "    file_path = './{}'.format(filename)\n",
    "    r = requests.get(url, allow_redirects=True)\n",
    "    open(filename, 'wb').write(r.content)"
   ]
  },
  {
   "cell_type": "code",
   "execution_count": null,
   "metadata": {},
   "outputs": [],
   "source": [
    "url = 'https://lance-modis.eosdis.nasa.gov/imagery/firemaps/firemap.2000055-2000060.2048x1024.jpg'\n",
    "filename = 'firemap.2000055-2000060.2048x1024.jpg'\n",
    "download_file(url, filename)"
   ]
  },
  {
   "cell_type": "markdown",
   "metadata": {},
   "source": [
    "## Scan remote directory"
   ]
  },
  {
   "cell_type": "code",
   "execution_count": null,
   "metadata": {},
   "outputs": [],
   "source": [
    "def read_url(url):\n",
    "    url = url.replace(\" \",\"%20\")\n",
    "    req = Request(url)\n",
    "    a = urlopen(req).read()\n",
    "    soup = BeautifulSoup(a, 'html.parser')\n",
    "    x = (soup.find_all('a'))\n",
    "    for i in x:\n",
    "        file_name = i.extract().get_text()\n",
    "        url_new = url + file_name\n",
    "        url_new = url_new.replace(\" \",\"%20\")\n",
    "\n",
    "        # only want images\n",
    "        if url_new.endswith('.jpg'):\n",
    "            #split the images on .\n",
    "            img_split = url_new.split('.')\n",
    "            file_size = img_split[-2]\n",
    "            print(file_name)\n",
    "            print(url_new)\n",
    "            print(file_size)\n",
    "        \n",
    "\n",
    "read_url(\"https://lance-modis.eosdis.nasa.gov/imagery/firemaps\")"
   ]
  },
  {
   "cell_type": "code",
   "execution_count": null,
   "metadata": {},
   "outputs": [],
   "source": []
  }
 ],
 "metadata": {
  "kernelspec": {
   "display_name": "Python 3",
   "language": "python",
   "name": "python3"
  },
  "language_info": {
   "codemirror_mode": {
    "name": "ipython",
    "version": 3
   },
   "file_extension": ".py",
   "mimetype": "text/x-python",
   "name": "python",
   "nbconvert_exporter": "python",
   "pygments_lexer": "ipython3",
   "version": "3.7.1"
  }
 },
 "nbformat": 4,
 "nbformat_minor": 2
}
