{
 "cells": [
  {
   "cell_type": "code",
   "execution_count": null,
   "metadata": {},
   "outputs": [],
   "source": [
    "from ecmwfapi import ECMWFDataServer\n",
    "\n",
    "# To run this example, you need an API key \n",
    "# available from https://api.ecmwf.int/v1/key/\n",
    "\n",
    "server = ECMWFDataServer()\n",
    "\n",
    "server.retrieve({\n",
    "    \"class\": \"ei\",\n",
    "    \"dataset\": \"interim\",\n",
    "    \"date\": \"2017-01-01/to/2017-12-31\",\n",
    "    \"expver\": \"1\",\n",
    "    \"grid\": \"0.75/0.75\",\n",
    "    \"levtype\": \"sfc\",\n",
    "    \"param\": \"167.128\", # 2 metre temperature\n",
    "    \"step\": \"0\",\n",
    "    \"stream\": \"oper\",\n",
    "    \"time\": \"00:00:00/06:00:00/12:00:00/18:00:00\",\n",
    "    \"type\": \"an\",\n",
    "    \"format\": \"netcdf\",\n",
    "    \"target\": \"temperature_ei_an_2017.nc\",\n",
    "})"
   ]
  },
  {
   "cell_type": "code",
   "execution_count": 1,
   "metadata": {},
   "outputs": [],
   "source": [
    "import xarray as xr\n",
    "import matplotlib.pyplot as plt\n",
    "import cartopy.crs as ccrs\n",
    "import cartopy.feature as cfeat"
   ]
  },
  {
   "cell_type": "code",
   "execution_count": 2,
   "metadata": {},
   "outputs": [],
   "source": [
    "ds = xr.open_mfdataset(\"temperature_ei_an_2017.nc\")"
   ]
  },
  {
   "cell_type": "code",
   "execution_count": null,
   "metadata": {},
   "outputs": [
    {
     "name": "stderr",
     "output_type": "stream",
     "text": [
      "Geometry must be a Point or LineString\n",
      "Geometry must be a Point or LineString\n"
     ]
    }
   ],
   "source": [
    "import cartopy.crs as ccrs\n",
    "import matplotlib.pyplot as plt\n",
    "\n",
    "ax = plt.axes(projection=ccrs.Mollweide())\n",
    "ax.stock_img()\n",
    "plt.show()"
   ]
  },
  {
   "cell_type": "code",
   "execution_count": null,
   "metadata": {},
   "outputs": [],
   "source": [
    "def make_figure():\n",
    "    fig = plt.figure(figsize=(8, 3))\n",
    "    ax = fig.add_subplot(1, 1, 1, projection=ccrs.PlateCarree())\n",
    "\n",
    "    # generate a basemap with country borders, oceans and coastlines\n",
    "    ax.add_feature(cfeat.LAND)\n",
    "    ax.add_feature(cfeat.OCEAN)\n",
    "    ax.add_feature(cfeat.COASTLINE)\n",
    "    ax.add_feature(cfeat.BORDERS, linestyle='dotted')\n",
    "    return fig, ax\n",
    "\n",
    "make_figure();"
   ]
  },
  {
   "cell_type": "code",
   "execution_count": null,
   "metadata": {},
   "outputs": [],
   "source": [
    "area = ds.t2m.sel(longitude=slice(270, 310), latitude=slice(30, 4))"
   ]
  },
  {
   "cell_type": "code",
   "execution_count": null,
   "metadata": {},
   "outputs": [],
   "source": [
    "_, ax = make_figure()\n",
    "# plot the temperature field\n",
    "grid = area.sel(time='2017-01-01T12:00:00')\n",
    "grid.plot(ax=ax, transform=ccrs.PlateCarree());"
   ]
  },
  {
   "cell_type": "code",
   "execution_count": null,
   "metadata": {},
   "outputs": [],
   "source": [
    "import matplotlib.animation as animation\n",
    "\n",
    "fig, ax = make_figure()\n",
    "\n",
    "frames = area.time.size        # Number of frames\n",
    "min_value = area.values.min()  # Lowest value\n",
    "max_value = area.values.max()  # Highest value\n",
    "\n",
    "\n",
    "def draw(frame, add_colorbar):\n",
    "    grid = area[frame]\n",
    "    contour = grid.plot(ax=ax, transform=ccrs.PlateCarree(),\n",
    "                        add_colorbar=add_colorbar, vmin=min_value, vmax=max_value)\n",
    "    title = u\"%s — %s\" % (ds.t2m.long_name, str(area.time[frame].values)[:19])\n",
    "    ax.set_title(title)\n",
    "    return contour\n",
    "\n",
    "\n",
    "def init():\n",
    "    return draw(0, add_colorbar=True)\n",
    "\n",
    "\n",
    "def animate(frame):\n",
    "    return draw(frame, add_colorbar=False)\n",
    "\n",
    "\n",
    "ani = animation.FuncAnimation(fig, animate, frames, interval=0.01, blit=False,\n",
    "                              init_func=init, repeat=False)\n",
    "ani.save('images/temperature_ei_an_2017.mp4', writer=animation.FFMpegWriter(fps=8))\n",
    "plt.close(fig)"
   ]
  },
  {
   "cell_type": "code",
   "execution_count": null,
   "metadata": {},
   "outputs": [],
   "source": [
    "import cartopy.crs as ccrs\n",
    "import matplotlib.pyplot as plt\n",
    "\n",
    "ax = plt.axes(projection=ccrs.PlateCarree())\n",
    "ax.coastlines()\n",
    "\n",
    "plt.show()"
   ]
  }
 ],
 "metadata": {
  "kernelspec": {
   "display_name": "Python 3",
   "language": "python",
   "name": "python3"
  },
  "language_info": {
   "codemirror_mode": {
    "name": "ipython",
    "version": 3
   },
   "file_extension": ".py",
   "mimetype": "text/x-python",
   "name": "python",
   "nbconvert_exporter": "python",
   "pygments_lexer": "ipython3",
   "version": "3.7.1"
  }
 },
 "nbformat": 4,
 "nbformat_minor": 2
}
